{
    "cells": [
        {
            "metadata": {},
            "cell_type": "code",
            "source": "import pandas as pd\n\nPatient_Details = pd.read_csv(\n    \"https://raw.githubusercontent.com/dwahane/datascience_project/master/Patient_Details_22112020.csv\"\n)\nPatient_Details.head()\n",
            "execution_count": 55,
            "outputs": [
                {
                    "output_type": "execute_result",
                    "execution_count": 55,
                    "data": {
                        "text/plain": "  Customer_Name|Customer_Id|Open_Date|Last_Consulted_Date|Vaccination_Id|Dr_Name|State|Country|DOB|Is_Active\n0  John|123456|20101012|20121013|MVD|Paul|NSW|AU|...                                                        \n1  Alex|123457|20101012|20121013|MVD|Paul|SA|USA|...                                                        \n2  Mathew|123457|20101012|20121013|MVD|Paul|WAS|P...                                                        \n3  Matt|123457|20101012|20121013|MVD|Paul|TN|IND|...                                                        \n4  Jacob|123457|20101012|20121013|MVD|Paul|VIC|AU...                                                        ",
                        "text/html": "<div>\n<style scoped>\n    .dataframe tbody tr th:only-of-type {\n        vertical-align: middle;\n    }\n\n    .dataframe tbody tr th {\n        vertical-align: top;\n    }\n\n    .dataframe thead th {\n        text-align: right;\n    }\n</style>\n<table border=\"1\" class=\"dataframe\">\n  <thead>\n    <tr style=\"text-align: right;\">\n      <th></th>\n      <th>Customer_Name|Customer_Id|Open_Date|Last_Consulted_Date|Vaccination_Id|Dr_Name|State|Country|DOB|Is_Active</th>\n    </tr>\n  </thead>\n  <tbody>\n    <tr>\n      <th>0</th>\n      <td>John|123456|20101012|20121013|MVD|Paul|NSW|AU|...</td>\n    </tr>\n    <tr>\n      <th>1</th>\n      <td>Alex|123457|20101012|20121013|MVD|Paul|SA|USA|...</td>\n    </tr>\n    <tr>\n      <th>2</th>\n      <td>Mathew|123457|20101012|20121013|MVD|Paul|WAS|P...</td>\n    </tr>\n    <tr>\n      <th>3</th>\n      <td>Matt|123457|20101012|20121013|MVD|Paul|TN|IND|...</td>\n    </tr>\n    <tr>\n      <th>4</th>\n      <td>Jacob|123457|20101012|20121013|MVD|Paul|VIC|AU...</td>\n    </tr>\n  </tbody>\n</table>\n</div>"
                    },
                    "metadata": {}
                }
            ]
        },
        {
            "metadata": {},
            "cell_type": "code",
            "source": "df_data_1 = pd.read_csv(\"https://raw.githubusercontent.com/dwahane/datascience_project/master/Patient_Details_22112020.csv\",sep='|', index_col=False)",
            "execution_count": 56,
            "outputs": []
        },
        {
            "metadata": {},
            "cell_type": "code",
            "source": "df_data_1.head()",
            "execution_count": 57,
            "outputs": [
                {
                    "output_type": "execute_result",
                    "execution_count": 57,
                    "data": {
                        "text/plain": "  Customer_Name  Customer_Id  Open_Date  Last_Consulted_Date Vaccination_Id  \\\n0          John       123456   20101012             20121013            MVD   \n1          Alex       123457   20101012             20121013            MVD   \n2        Mathew       123457   20101012             20121013            MVD   \n3          Matt       123457   20101012             20121013            MVD   \n4         Jacob       123457   20101012             20121013            MVD   \n\n  Dr_Name State Country      DOB Is_Active  \n0    Paul   NSW      AU  6031987         A  \n1    Paul    SA     USA  6031987         A  \n2    Paul   WAS    PHIL  6031987         A  \n3    Paul    TN     IND  6031987         A  \n4    Paul   VIC      AU  6031987         A  ",
                        "text/html": "<div>\n<style scoped>\n    .dataframe tbody tr th:only-of-type {\n        vertical-align: middle;\n    }\n\n    .dataframe tbody tr th {\n        vertical-align: top;\n    }\n\n    .dataframe thead th {\n        text-align: right;\n    }\n</style>\n<table border=\"1\" class=\"dataframe\">\n  <thead>\n    <tr style=\"text-align: right;\">\n      <th></th>\n      <th>Customer_Name</th>\n      <th>Customer_Id</th>\n      <th>Open_Date</th>\n      <th>Last_Consulted_Date</th>\n      <th>Vaccination_Id</th>\n      <th>Dr_Name</th>\n      <th>State</th>\n      <th>Country</th>\n      <th>DOB</th>\n      <th>Is_Active</th>\n    </tr>\n  </thead>\n  <tbody>\n    <tr>\n      <th>0</th>\n      <td>John</td>\n      <td>123456</td>\n      <td>20101012</td>\n      <td>20121013</td>\n      <td>MVD</td>\n      <td>Paul</td>\n      <td>NSW</td>\n      <td>AU</td>\n      <td>6031987</td>\n      <td>A</td>\n    </tr>\n    <tr>\n      <th>1</th>\n      <td>Alex</td>\n      <td>123457</td>\n      <td>20101012</td>\n      <td>20121013</td>\n      <td>MVD</td>\n      <td>Paul</td>\n      <td>SA</td>\n      <td>USA</td>\n      <td>6031987</td>\n      <td>A</td>\n    </tr>\n    <tr>\n      <th>2</th>\n      <td>Mathew</td>\n      <td>123457</td>\n      <td>20101012</td>\n      <td>20121013</td>\n      <td>MVD</td>\n      <td>Paul</td>\n      <td>WAS</td>\n      <td>PHIL</td>\n      <td>6031987</td>\n      <td>A</td>\n    </tr>\n    <tr>\n      <th>3</th>\n      <td>Matt</td>\n      <td>123457</td>\n      <td>20101012</td>\n      <td>20121013</td>\n      <td>MVD</td>\n      <td>Paul</td>\n      <td>TN</td>\n      <td>IND</td>\n      <td>6031987</td>\n      <td>A</td>\n    </tr>\n    <tr>\n      <th>4</th>\n      <td>Jacob</td>\n      <td>123457</td>\n      <td>20101012</td>\n      <td>20121013</td>\n      <td>MVD</td>\n      <td>Paul</td>\n      <td>VIC</td>\n      <td>AU</td>\n      <td>6031987</td>\n      <td>A</td>\n    </tr>\n  </tbody>\n</table>\n</div>"
                    },
                    "metadata": {}
                }
            ]
        },
        {
            "metadata": {},
            "cell_type": "code",
            "source": "new = Patient_Details[\n    \"Customer_Name|Customer_Id|Open_Date|Last_Consulted_Date|Vaccination_Id|Dr_Name|State|Country|DOB|Is_Active\"\n].str.split(\"|\", n=9, expand=True)\n\n#!/usr/bin/python\n# -*- coding: utf-8 -*-\nPatient_Details[\"Name\"] = new[0]\nPatient_Details[\"Cust_Id\"] = new[1]\nPatient_Details[\"Open_Dt\"] = new[2]\nPatient_Details[\"Consul_Dt\"] = new[3]\nPatient_Details[\"VAC_ID\"] = new[4]\nPatient_Details[\"DR_Name\"] = new[5]\nPatient_Details[\"State\"] = new[6]\nPatient_Details[\"Country\"] = new[7]\nPatient_Details[\"DOB\"] = new[8]\nPatient_Details[\"FLAG\"] = new[9]\nPatient_Details.drop(\n    columns=[\n        \"Customer_Name|Customer_Id|Open_Date|Last_Consulted_Date|Vaccination_Id|Dr_Name|State|Country|DOB|Is_Active\"\n    ],\n    inplace=True,\n)",
            "execution_count": 58,
            "outputs": []
        },
        {
            "metadata": {},
            "cell_type": "code",
            "source": "Patient_Details",
            "execution_count": 59,
            "outputs": [
                {
                    "output_type": "execute_result",
                    "execution_count": 59,
                    "data": {
                        "text/plain": "     Name Cust_Id   Open_Dt Consul_Dt VAC_ID DR_Name State Country      DOB  \\\n0    John  123456  20101012  20121013    MVD    Paul   NSW      AU  6031987   \n1    Alex  123457  20101012  20121013    MVD    Paul    SA     USA  6031987   \n2  Mathew  123457  20101012  20121013    MVD    Paul   WAS    PHIL  6031987   \n3    Matt  123457  20101012  20121013    MVD    Paul    TN     IND  6031987   \n4   Jacob  123457  20101012  20121013    MVD    Paul   VIC      AU  6031987   \n\n  FLAG  \n0    A  \n1    A  \n2    A  \n3    A  \n4    A  ",
                        "text/html": "<div>\n<style scoped>\n    .dataframe tbody tr th:only-of-type {\n        vertical-align: middle;\n    }\n\n    .dataframe tbody tr th {\n        vertical-align: top;\n    }\n\n    .dataframe thead th {\n        text-align: right;\n    }\n</style>\n<table border=\"1\" class=\"dataframe\">\n  <thead>\n    <tr style=\"text-align: right;\">\n      <th></th>\n      <th>Name</th>\n      <th>Cust_Id</th>\n      <th>Open_Dt</th>\n      <th>Consul_Dt</th>\n      <th>VAC_ID</th>\n      <th>DR_Name</th>\n      <th>State</th>\n      <th>Country</th>\n      <th>DOB</th>\n      <th>FLAG</th>\n    </tr>\n  </thead>\n  <tbody>\n    <tr>\n      <th>0</th>\n      <td>John</td>\n      <td>123456</td>\n      <td>20101012</td>\n      <td>20121013</td>\n      <td>MVD</td>\n      <td>Paul</td>\n      <td>NSW</td>\n      <td>AU</td>\n      <td>6031987</td>\n      <td>A</td>\n    </tr>\n    <tr>\n      <th>1</th>\n      <td>Alex</td>\n      <td>123457</td>\n      <td>20101012</td>\n      <td>20121013</td>\n      <td>MVD</td>\n      <td>Paul</td>\n      <td>SA</td>\n      <td>USA</td>\n      <td>6031987</td>\n      <td>A</td>\n    </tr>\n    <tr>\n      <th>2</th>\n      <td>Mathew</td>\n      <td>123457</td>\n      <td>20101012</td>\n      <td>20121013</td>\n      <td>MVD</td>\n      <td>Paul</td>\n      <td>WAS</td>\n      <td>PHIL</td>\n      <td>6031987</td>\n      <td>A</td>\n    </tr>\n    <tr>\n      <th>3</th>\n      <td>Matt</td>\n      <td>123457</td>\n      <td>20101012</td>\n      <td>20121013</td>\n      <td>MVD</td>\n      <td>Paul</td>\n      <td>TN</td>\n      <td>IND</td>\n      <td>6031987</td>\n      <td>A</td>\n    </tr>\n    <tr>\n      <th>4</th>\n      <td>Jacob</td>\n      <td>123457</td>\n      <td>20101012</td>\n      <td>20121013</td>\n      <td>MVD</td>\n      <td>Paul</td>\n      <td>VIC</td>\n      <td>AU</td>\n      <td>6031987</td>\n      <td>A</td>\n    </tr>\n  </tbody>\n</table>\n</div>"
                    },
                    "metadata": {}
                }
            ]
        },
        {
            "metadata": {},
            "cell_type": "code",
            "source": "India_Table_raw = Patient_Details[\"Country\"] == \"IND\"\n\nIndia_Table_raw.head()",
            "execution_count": 43,
            "outputs": [
                {
                    "output_type": "execute_result",
                    "execution_count": 43,
                    "data": {
                        "text/plain": "0    False\n1    False\n2    False\n3     True\n4    False\nName: Country, dtype: bool"
                    },
                    "metadata": {}
                }
            ]
        },
        {
            "metadata": {},
            "cell_type": "code",
            "source": "India_Table = Patient_Details[India_Table_raw]\n\nIndia_Table.head()",
            "execution_count": 44,
            "outputs": [
                {
                    "output_type": "execute_result",
                    "execution_count": 44,
                    "data": {
                        "text/plain": "   Name Cust_Id   Open_Dt Consul_Dt VAC_ID DR_Name State Country      DOB FLAG\n3  Matt  123457  20101012  20121013    MVD    Paul    TN     IND  6031987    A",
                        "text/html": "<div>\n<style scoped>\n    .dataframe tbody tr th:only-of-type {\n        vertical-align: middle;\n    }\n\n    .dataframe tbody tr th {\n        vertical-align: top;\n    }\n\n    .dataframe thead th {\n        text-align: right;\n    }\n</style>\n<table border=\"1\" class=\"dataframe\">\n  <thead>\n    <tr style=\"text-align: right;\">\n      <th></th>\n      <th>Name</th>\n      <th>Cust_Id</th>\n      <th>Open_Dt</th>\n      <th>Consul_Dt</th>\n      <th>VAC_ID</th>\n      <th>DR_Name</th>\n      <th>State</th>\n      <th>Country</th>\n      <th>DOB</th>\n      <th>FLAG</th>\n    </tr>\n  </thead>\n  <tbody>\n    <tr>\n      <th>3</th>\n      <td>Matt</td>\n      <td>123457</td>\n      <td>20101012</td>\n      <td>20121013</td>\n      <td>MVD</td>\n      <td>Paul</td>\n      <td>TN</td>\n      <td>IND</td>\n      <td>6031987</td>\n      <td>A</td>\n    </tr>\n  </tbody>\n</table>\n</div>"
                    },
                    "metadata": {}
                }
            ]
        },
        {
            "metadata": {},
            "cell_type": "code",
            "source": "Australia_Table_Raw =  Patient_Details['Country']=='AU'\n\nAustralia_Table_Raw.head()",
            "execution_count": 45,
            "outputs": [
                {
                    "output_type": "execute_result",
                    "execution_count": 45,
                    "data": {
                        "text/plain": "0     True\n1    False\n2    False\n3    False\n4     True\nName: Country, dtype: bool"
                    },
                    "metadata": {}
                }
            ]
        },
        {
            "metadata": {},
            "cell_type": "code",
            "source": "Australia_Table = Patient_Details[Australia_Table_Raw]\n\nAustralia_Table.head()",
            "execution_count": 46,
            "outputs": [
                {
                    "output_type": "execute_result",
                    "execution_count": 46,
                    "data": {
                        "text/plain": "    Name Cust_Id   Open_Dt Consul_Dt VAC_ID DR_Name State Country      DOB  \\\n0   John  123456  20101012  20121013    MVD    Paul   NSW      AU  6031987   \n4  Jacob  123457  20101012  20121013    MVD    Paul   VIC      AU  6031987   \n\n  FLAG  \n0    A  \n4    A  ",
                        "text/html": "<div>\n<style scoped>\n    .dataframe tbody tr th:only-of-type {\n        vertical-align: middle;\n    }\n\n    .dataframe tbody tr th {\n        vertical-align: top;\n    }\n\n    .dataframe thead th {\n        text-align: right;\n    }\n</style>\n<table border=\"1\" class=\"dataframe\">\n  <thead>\n    <tr style=\"text-align: right;\">\n      <th></th>\n      <th>Name</th>\n      <th>Cust_Id</th>\n      <th>Open_Dt</th>\n      <th>Consul_Dt</th>\n      <th>VAC_ID</th>\n      <th>DR_Name</th>\n      <th>State</th>\n      <th>Country</th>\n      <th>DOB</th>\n      <th>FLAG</th>\n    </tr>\n  </thead>\n  <tbody>\n    <tr>\n      <th>0</th>\n      <td>John</td>\n      <td>123456</td>\n      <td>20101012</td>\n      <td>20121013</td>\n      <td>MVD</td>\n      <td>Paul</td>\n      <td>NSW</td>\n      <td>AU</td>\n      <td>6031987</td>\n      <td>A</td>\n    </tr>\n    <tr>\n      <th>4</th>\n      <td>Jacob</td>\n      <td>123457</td>\n      <td>20101012</td>\n      <td>20121013</td>\n      <td>MVD</td>\n      <td>Paul</td>\n      <td>VIC</td>\n      <td>AU</td>\n      <td>6031987</td>\n      <td>A</td>\n    </tr>\n  </tbody>\n</table>\n</div>"
                    },
                    "metadata": {}
                }
            ]
        },
        {
            "metadata": {},
            "cell_type": "code",
            "source": "USA_Table_Raw =  Patient_Details['Country']=='USA'\n\nUSA_Table_Raw.head()",
            "execution_count": 47,
            "outputs": [
                {
                    "output_type": "execute_result",
                    "execution_count": 47,
                    "data": {
                        "text/plain": "0    False\n1     True\n2    False\n3    False\n4    False\nName: Country, dtype: bool"
                    },
                    "metadata": {}
                }
            ]
        },
        {
            "metadata": {},
            "cell_type": "code",
            "source": "USA_Table = Patient_Details[USA_Table_Raw]\n\nUSA_Table.head()",
            "execution_count": 48,
            "outputs": [
                {
                    "output_type": "execute_result",
                    "execution_count": 48,
                    "data": {
                        "text/plain": "   Name Cust_Id   Open_Dt Consul_Dt VAC_ID DR_Name State Country      DOB FLAG\n1  Alex  123457  20101012  20121013    MVD    Paul    SA     USA  6031987    A",
                        "text/html": "<div>\n<style scoped>\n    .dataframe tbody tr th:only-of-type {\n        vertical-align: middle;\n    }\n\n    .dataframe tbody tr th {\n        vertical-align: top;\n    }\n\n    .dataframe thead th {\n        text-align: right;\n    }\n</style>\n<table border=\"1\" class=\"dataframe\">\n  <thead>\n    <tr style=\"text-align: right;\">\n      <th></th>\n      <th>Name</th>\n      <th>Cust_Id</th>\n      <th>Open_Dt</th>\n      <th>Consul_Dt</th>\n      <th>VAC_ID</th>\n      <th>DR_Name</th>\n      <th>State</th>\n      <th>Country</th>\n      <th>DOB</th>\n      <th>FLAG</th>\n    </tr>\n  </thead>\n  <tbody>\n    <tr>\n      <th>1</th>\n      <td>Alex</td>\n      <td>123457</td>\n      <td>20101012</td>\n      <td>20121013</td>\n      <td>MVD</td>\n      <td>Paul</td>\n      <td>SA</td>\n      <td>USA</td>\n      <td>6031987</td>\n      <td>A</td>\n    </tr>\n  </tbody>\n</table>\n</div>"
                    },
                    "metadata": {}
                }
            ]
        },
        {
            "metadata": {},
            "cell_type": "code",
            "source": "Phil_Table_Raw =  Patient_Details['Country']=='PHIL'\n\nPhil_Table_Raw.head()",
            "execution_count": 49,
            "outputs": [
                {
                    "output_type": "execute_result",
                    "execution_count": 49,
                    "data": {
                        "text/plain": "0    False\n1    False\n2     True\n3    False\n4    False\nName: Country, dtype: bool"
                    },
                    "metadata": {}
                }
            ]
        },
        {
            "metadata": {},
            "cell_type": "code",
            "source": "Phil_Table = Patient_Details[Phil_Table_Raw]\n\nPhil_Table.head()",
            "execution_count": 28,
            "outputs": [
                {
                    "output_type": "execute_result",
                    "execution_count": 28,
                    "data": {
                        "text/plain": "     Name Cust_Id   Open_Dt Consul_Dt VAC_ID DR_Name State Country      DOB  \\\n2  Mathew  123457  20101012  20121013    MVD    Paul   WAS    PHIL  6031987   \n\n  FLAG  \n2    A  ",
                        "text/html": "<div>\n<style scoped>\n    .dataframe tbody tr th:only-of-type {\n        vertical-align: middle;\n    }\n\n    .dataframe tbody tr th {\n        vertical-align: top;\n    }\n\n    .dataframe thead th {\n        text-align: right;\n    }\n</style>\n<table border=\"1\" class=\"dataframe\">\n  <thead>\n    <tr style=\"text-align: right;\">\n      <th></th>\n      <th>Name</th>\n      <th>Cust_Id</th>\n      <th>Open_Dt</th>\n      <th>Consul_Dt</th>\n      <th>VAC_ID</th>\n      <th>DR_Name</th>\n      <th>State</th>\n      <th>Country</th>\n      <th>DOB</th>\n      <th>FLAG</th>\n    </tr>\n  </thead>\n  <tbody>\n    <tr>\n      <th>2</th>\n      <td>Mathew</td>\n      <td>123457</td>\n      <td>20101012</td>\n      <td>20121013</td>\n      <td>MVD</td>\n      <td>Paul</td>\n      <td>WAS</td>\n      <td>PHIL</td>\n      <td>6031987</td>\n      <td>A</td>\n    </tr>\n  </tbody>\n</table>\n</div>"
                    },
                    "metadata": {}
                }
            ]
        },
        {
            "metadata": {},
            "cell_type": "code",
            "source": "Phil_Table.to_csv('Phil_Table.csv', index ='false')\nPhil_File= pd.read_csv(\"Phil_Table.csv\")\nPhil_File.head()",
            "execution_count": 69,
            "outputs": [
                {
                    "output_type": "execute_result",
                    "execution_count": 69,
                    "data": {
                        "text/plain": "   Unnamed: 0    Name  Cust_Id   Open_Dt  Consul_Dt VAC_ID DR_Name State  \\\n0           2  Mathew   123457  20101012   20121013    MVD    Paul   WAS   \n\n  Country      DOB FLAG  \n0    PHIL  6031987    A  ",
                        "text/html": "<div>\n<style scoped>\n    .dataframe tbody tr th:only-of-type {\n        vertical-align: middle;\n    }\n\n    .dataframe tbody tr th {\n        vertical-align: top;\n    }\n\n    .dataframe thead th {\n        text-align: right;\n    }\n</style>\n<table border=\"1\" class=\"dataframe\">\n  <thead>\n    <tr style=\"text-align: right;\">\n      <th></th>\n      <th>Unnamed: 0</th>\n      <th>Name</th>\n      <th>Cust_Id</th>\n      <th>Open_Dt</th>\n      <th>Consul_Dt</th>\n      <th>VAC_ID</th>\n      <th>DR_Name</th>\n      <th>State</th>\n      <th>Country</th>\n      <th>DOB</th>\n      <th>FLAG</th>\n    </tr>\n  </thead>\n  <tbody>\n    <tr>\n      <th>0</th>\n      <td>2</td>\n      <td>Mathew</td>\n      <td>123457</td>\n      <td>20101012</td>\n      <td>20121013</td>\n      <td>MVD</td>\n      <td>Paul</td>\n      <td>WAS</td>\n      <td>PHIL</td>\n      <td>6031987</td>\n      <td>A</td>\n    </tr>\n  </tbody>\n</table>\n</div>"
                    },
                    "metadata": {}
                }
            ]
        },
        {
            "metadata": {},
            "cell_type": "code",
            "source": "USA_Table.to_csv('USA_Table.csv', index ='false')\nUSA_File= pd.read_csv(\"USA_Table.csv\")\nUSA_File.head()",
            "execution_count": 68,
            "outputs": [
                {
                    "output_type": "execute_result",
                    "execution_count": 68,
                    "data": {
                        "text/plain": "   Unnamed: 0  Name  Cust_Id   Open_Dt  Consul_Dt VAC_ID DR_Name State  \\\n0           1  Alex   123457  20101012   20121013    MVD    Paul    SA   \n\n  Country      DOB FLAG  \n0     USA  6031987    A  ",
                        "text/html": "<div>\n<style scoped>\n    .dataframe tbody tr th:only-of-type {\n        vertical-align: middle;\n    }\n\n    .dataframe tbody tr th {\n        vertical-align: top;\n    }\n\n    .dataframe thead th {\n        text-align: right;\n    }\n</style>\n<table border=\"1\" class=\"dataframe\">\n  <thead>\n    <tr style=\"text-align: right;\">\n      <th></th>\n      <th>Unnamed: 0</th>\n      <th>Name</th>\n      <th>Cust_Id</th>\n      <th>Open_Dt</th>\n      <th>Consul_Dt</th>\n      <th>VAC_ID</th>\n      <th>DR_Name</th>\n      <th>State</th>\n      <th>Country</th>\n      <th>DOB</th>\n      <th>FLAG</th>\n    </tr>\n  </thead>\n  <tbody>\n    <tr>\n      <th>0</th>\n      <td>1</td>\n      <td>Alex</td>\n      <td>123457</td>\n      <td>20101012</td>\n      <td>20121013</td>\n      <td>MVD</td>\n      <td>Paul</td>\n      <td>SA</td>\n      <td>USA</td>\n      <td>6031987</td>\n      <td>A</td>\n    </tr>\n  </tbody>\n</table>\n</div>"
                    },
                    "metadata": {}
                }
            ]
        },
        {
            "metadata": {},
            "cell_type": "code",
            "source": "Australia_Table.to_csv('Australia_Table.csv', index ='false')\nAustralia_File= pd.read_csv(\"Australia_Table.csv\")\nAustralia_File.head()",
            "execution_count": 67,
            "outputs": [
                {
                    "output_type": "execute_result",
                    "execution_count": 67,
                    "data": {
                        "text/plain": "   Unnamed: 0   Name  Cust_Id   Open_Dt  Consul_Dt VAC_ID DR_Name State  \\\n0           0   John   123456  20101012   20121013    MVD    Paul   NSW   \n1           4  Jacob   123457  20101012   20121013    MVD    Paul   VIC   \n\n  Country      DOB FLAG  \n0      AU  6031987    A  \n1      AU  6031987    A  ",
                        "text/html": "<div>\n<style scoped>\n    .dataframe tbody tr th:only-of-type {\n        vertical-align: middle;\n    }\n\n    .dataframe tbody tr th {\n        vertical-align: top;\n    }\n\n    .dataframe thead th {\n        text-align: right;\n    }\n</style>\n<table border=\"1\" class=\"dataframe\">\n  <thead>\n    <tr style=\"text-align: right;\">\n      <th></th>\n      <th>Unnamed: 0</th>\n      <th>Name</th>\n      <th>Cust_Id</th>\n      <th>Open_Dt</th>\n      <th>Consul_Dt</th>\n      <th>VAC_ID</th>\n      <th>DR_Name</th>\n      <th>State</th>\n      <th>Country</th>\n      <th>DOB</th>\n      <th>FLAG</th>\n    </tr>\n  </thead>\n  <tbody>\n    <tr>\n      <th>0</th>\n      <td>0</td>\n      <td>John</td>\n      <td>123456</td>\n      <td>20101012</td>\n      <td>20121013</td>\n      <td>MVD</td>\n      <td>Paul</td>\n      <td>NSW</td>\n      <td>AU</td>\n      <td>6031987</td>\n      <td>A</td>\n    </tr>\n    <tr>\n      <th>1</th>\n      <td>4</td>\n      <td>Jacob</td>\n      <td>123457</td>\n      <td>20101012</td>\n      <td>20121013</td>\n      <td>MVD</td>\n      <td>Paul</td>\n      <td>VIC</td>\n      <td>AU</td>\n      <td>6031987</td>\n      <td>A</td>\n    </tr>\n  </tbody>\n</table>\n</div>"
                    },
                    "metadata": {}
                }
            ]
        },
        {
            "metadata": {},
            "cell_type": "code",
            "source": "India_Table.to_csv('India_Table.csv', index ='false')\nIndia_File= pd.read_csv(\"India_Table.csv\")\nIndia_File.head()",
            "execution_count": 66,
            "outputs": [
                {
                    "output_type": "execute_result",
                    "execution_count": 66,
                    "data": {
                        "text/plain": "   Unnamed: 0  Name  Cust_Id   Open_Dt  Consul_Dt VAC_ID DR_Name State  \\\n0           3  Matt   123457  20101012   20121013    MVD    Paul    TN   \n\n  Country      DOB FLAG  \n0     IND  6031987    A  ",
                        "text/html": "<div>\n<style scoped>\n    .dataframe tbody tr th:only-of-type {\n        vertical-align: middle;\n    }\n\n    .dataframe tbody tr th {\n        vertical-align: top;\n    }\n\n    .dataframe thead th {\n        text-align: right;\n    }\n</style>\n<table border=\"1\" class=\"dataframe\">\n  <thead>\n    <tr style=\"text-align: right;\">\n      <th></th>\n      <th>Unnamed: 0</th>\n      <th>Name</th>\n      <th>Cust_Id</th>\n      <th>Open_Dt</th>\n      <th>Consul_Dt</th>\n      <th>VAC_ID</th>\n      <th>DR_Name</th>\n      <th>State</th>\n      <th>Country</th>\n      <th>DOB</th>\n      <th>FLAG</th>\n    </tr>\n  </thead>\n  <tbody>\n    <tr>\n      <th>0</th>\n      <td>3</td>\n      <td>Matt</td>\n      <td>123457</td>\n      <td>20101012</td>\n      <td>20121013</td>\n      <td>MVD</td>\n      <td>Paul</td>\n      <td>TN</td>\n      <td>IND</td>\n      <td>6031987</td>\n      <td>A</td>\n    </tr>\n  </tbody>\n</table>\n</div>"
                    },
                    "metadata": {}
                }
            ]
        },
        {
            "metadata": {},
            "cell_type": "code",
            "source": "",
            "execution_count": null,
            "outputs": []
        }
    ],
    "metadata": {
        "kernelspec": {
            "name": "python3",
            "display_name": "Python 3.7",
            "language": "python"
        },
        "language_info": {
            "name": "python",
            "version": "3.7.9",
            "mimetype": "text/x-python",
            "codemirror_mode": {
                "name": "ipython",
                "version": 3
            },
            "pygments_lexer": "ipython3",
            "nbconvert_exporter": "python",
            "file_extension": ".py"
        }
    },
    "nbformat": 4,
    "nbformat_minor": 1
}